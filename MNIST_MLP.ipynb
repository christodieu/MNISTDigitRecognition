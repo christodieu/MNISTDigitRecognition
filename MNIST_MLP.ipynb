{
 "cells": [
  {
   "cell_type": "code",
   "execution_count": 1,
   "metadata": {},
   "outputs": [
    {
     "name": "stderr",
     "output_type": "stream",
     "text": [
      "Using Theano backend.\n"
     ]
    }
   ],
   "source": [
    "from keras.datasets import mnist\n",
    "import matplotlib.pyplot as plt\n",
    "import numpy\n",
    "from keras.models import Sequential\n",
    "from keras.layers import Dense\n",
    "from keras.layers import Dropout\n",
    "from keras.utils import np_utils"
   ]
  },
  {
   "cell_type": "code",
   "execution_count": 2,
   "metadata": {},
   "outputs": [],
   "source": [
    "(x_train,y_train),(x_test,y_test)=mnist.load_data()"
   ]
  },
  {
   "cell_type": "code",
   "execution_count": 3,
   "metadata": {},
   "outputs": [],
   "source": [
    "%matplotlib inline\n",
    "plt.rcParams['figure.figsize'] = (10.0, 8.0) # set default size of plots\n",
    "plt.rcParams['image.interpolation'] = 'nearest'\n",
    "plt.rcParams['image.cmap'] = 'gray'"
   ]
  },
  {
   "cell_type": "code",
   "execution_count": 4,
   "metadata": {},
   "outputs": [
    {
     "name": "stdout",
     "output_type": "stream",
     "text": [
      "(60000, 28, 28) (60000,)\n",
      "(10000, 28, 28) (10000,)\n"
     ]
    },
    {
     "data": {
      "image/png": "[encoded data removed]",
      "text/plain": [
       "<matplotlib.figure.Figure at 0x7f5e1cd00f10>"
      ]
     },
     "metadata": {},
     "output_type": "display_data"
    }
   ],
   "source": [
    "plt.subplot(221)\n",
    "plt.imshow(x_train[0],cmap=plt.get_cmap('gray'))\n",
    "\n",
    "print x_train.shape,y_train.shape\n",
    "print x_test.shape,y_test.shape"
   ]
  },
  {
   "cell_type": "code",
   "execution_count": 12,
   "metadata": {},
   "outputs": [
    {
     "name": "stdout",
     "output_type": "stream",
     "text": [
      "28\n"
     ]
    }
   ],
   "source": [
    "seed =7\n",
    "numpy.random.seed(seed)\n",
    "print x_train.shape[2]"
   ]
  },
  {
   "cell_type": "code",
   "execution_count": 13,
   "metadata": {},
   "outputs": [
    {
     "name": "stdout",
     "output_type": "stream",
     "text": [
      "(60000, 784) (60000,)\n",
      "(10000, 784) (10000,)\n"
     ]
    }
   ],
   "source": [
    "num_pixels=x_train.shape[1]*x_train.shape[2]\n",
    "X_train=x_train.reshape(x_train.shape[0],num_pixels).astype('float32')\n",
    "X_test=x_test.reshape(x_test.shape[0],num_pixels).astype('float32')\n",
    "print X_train.shape,y_train.shape\n",
    "print X_test.shape,y_test.shape\n"
   ]
  },
  {
   "cell_type": "code",
   "execution_count": 14,
   "metadata": {},
   "outputs": [],
   "source": [
    "X_train=X_train/255\n",
    "X_test=X_test/255"
   ]
  },
  {
   "cell_type": "code",
   "execution_count": 22,
   "metadata": {},
   "outputs": [
    {
     "name": "stdout",
     "output_type": "stream",
     "text": [
      "Integer: 2\n",
      "Binary matrix: [ 0.  0.  1.  0.  0.  0.  0.  0.  0.  0.]\n",
      "<type 'numpy.ndarray'>\n",
      "<type 'numpy.ndarray'>\n",
      "(10000, 10)\n"
     ]
    }
   ],
   "source": [
    "#converting output labels to binary matrix\n",
    "i=5\n",
    "print \"Integer:\",y_train[i]\n",
    "Y_train=np_utils.to_categorical(y_train)\n",
    "Y_test=np_utils.to_categorical(y_test)\n",
    "print \"Binary matrix:\",Y_train[i]\n",
    "print type(Y_train)\n",
    "print type(y_train)\n",
    "print Y_test.shape\n",
    "num_classes=Y_test.shape[1]"
   ]
  },
  {
   "cell_type": "code",
   "execution_count": 16,
   "metadata": {},
   "outputs": [],
   "source": [
    "def baselinemodel():\n",
    "    model=Sequential()\n",
    "    model.add(Dense(num_pixels,input_dim=num_pixels,init='normal',activation='relu'))\n",
    "    model.add(Dense(num_classes,init='normal',activation='softmax'))\n",
    "    model.compile(loss='categorical_crossentropy',optimizer='adam',metrics=['accuracy'])\n",
    "    return model"
   ]
  },
  {
   "cell_type": "code",
   "execution_count": 17,
   "metadata": {},
   "outputs": [
    {
     "name": "stdout",
     "output_type": "stream",
     "text": [
      "Train on 60000 samples, validate on 10000 samples\n",
      "Epoch 1/10\n",
      "12s - loss: 0.2791 - acc: 0.9203 - val_loss: 0.1421 - val_acc: 0.9578\n",
      "Epoch 2/10\n",
      "13s - loss: 0.1123 - acc: 0.9679 - val_loss: 0.0997 - val_acc: 0.9699\n",
      "Epoch 3/10\n",
      "15s - loss: 0.0724 - acc: 0.9790 - val_loss: 0.0785 - val_acc: 0.9743\n",
      "Epoch 4/10\n",
      "13s - loss: 0.0510 - acc: 0.9854 - val_loss: 0.0778 - val_acc: 0.9769\n",
      "Epoch 5/10\n",
      "15s - loss: 0.0365 - acc: 0.9895 - val_loss: 0.0636 - val_acc: 0.9791\n",
      "Epoch 6/10\n",
      "13s - loss: 0.0264 - acc: 0.9930 - val_loss: 0.0653 - val_acc: 0.9797\n",
      "Epoch 7/10\n",
      "15s - loss: 0.0185 - acc: 0.9957 - val_loss: 0.0608 - val_acc: 0.9808\n",
      "Epoch 8/10\n",
      "14s - loss: 0.0148 - acc: 0.9968 - val_loss: 0.0626 - val_acc: 0.9812\n",
      "Epoch 9/10\n",
      "13s - loss: 0.0105 - acc: 0.9981 - val_loss: 0.0595 - val_acc: 0.9817\n",
      "Epoch 10/10\n",
      "17s - loss: 0.0073 - acc: 0.9988 - val_loss: 0.0600 - val_acc: 0.9819\n",
      "Error: 1.81% \n"
     ]
    }
   ],
   "source": [
    "model=baselinemodel()\n",
    "\n",
    "model.fit(X_train,Y_train,validation_data=(X_test,Y_test),nb_epoch=10,batch_size=200,verbose=2)\n",
    "\n",
    "scores=model.evaluate(X_test,Y_test,verbose=0)\n",
    "print(\"Error: %.2f%% \"%(100-scores[1]*100))"
   ]
  },
  {
   "cell_type": "code",
   "execution_count": null,
   "metadata": {},
   "outputs": [],
   "source": []
  }
 ],
 "metadata": {
  "kernelspec": {
   "display_name": "Python 3",
   "language": "python",
   "name": "python3"
  },
  "language_info": {
   "codemirror_mode": {
    "name": "ipython",
    "version": 3
   },
   "file_extension": ".py",
   "mimetype": "text/x-python",
   "name": "python",
   "nbconvert_exporter": "python",
   "pygments_lexer": "ipython3",
   "version": "3.6.4"
  }
 },
 "nbformat": 4,
 "nbformat_minor": 1
}
